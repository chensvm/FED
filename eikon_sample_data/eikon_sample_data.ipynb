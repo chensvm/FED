{
 "cells": [
  {
   "cell_type": "code",
   "execution_count": 44,
   "metadata": {
    "collapsed": true
   },
   "outputs": [],
   "source": [
    "from datetime import date, timedelta\n",
    "import pandas as pd\n",
    "from IPython.display import HTML, display"
   ]
  },
  {
   "cell_type": "markdown",
   "metadata": {},
   "source": [
    "# news"
   ]
  },
  {
   "cell_type": "code",
   "execution_count": 36,
   "metadata": {},
   "outputs": [
    {
     "data": {
      "text/html": [
       "<div>\n",
       "<table border=\"1\" class=\"dataframe\">\n",
       "  <thead>\n",
       "    <tr style=\"text-align: right;\">\n",
       "      <th></th>\n",
       "      <th>versionCreated</th>\n",
       "      <th>text</th>\n",
       "      <th>storyId</th>\n",
       "      <th>sourceCode</th>\n",
       "      <th>story_content</th>\n",
       "    </tr>\n",
       "  </thead>\n",
       "  <tbody>\n",
       "    <tr>\n",
       "      <th>2017-10-05 09:01:17.000</th>\n",
       "      <td>2017-10-05 09:01:17.000</td>\n",
       "      <td>GLOBAL MARKETS-Stock market party settles down...</td>\n",
       "      <td>urn:newsml:reuters.com:20171005:nL8N1MG1JN:3</td>\n",
       "      <td>NS:RTRS</td>\n",
       "      <td>&lt;div class=\"storyContent\"&gt;&lt;ul class=\"bulleted-...</td>\n",
       "    </tr>\n",
       "    <tr>\n",
       "      <th>2017-10-05 08:40:13.000</th>\n",
       "      <td>2017-10-05 08:40:13.000</td>\n",
       "      <td>*TOP NEWS*-Central Banks &amp; Global Economy</td>\n",
       "      <td>urn:newsml:reuters.com:20171005:nTOPNOW1:16</td>\n",
       "      <td>NS:RTRS</td>\n",
       "      <td>&lt;div class=\"storyContent\"&gt;&lt;pre&gt;&amp;gt; European s...</td>\n",
       "    </tr>\n",
       "    <tr>\n",
       "      <th>2017-10-05 08:26:57.279</th>\n",
       "      <td>2017-10-05 08:26:57.279</td>\n",
       "      <td>Reuters Insider - European markets open lower;...</td>\n",
       "      <td>urn:newsml:reuters.com:20171005:nRTV9VRnmX:1</td>\n",
       "      <td>NS:CNBC</td>\n",
       "      <td>&lt;div class=\"storyContent\"&gt;&lt;div class=\"storyfra...</td>\n",
       "    </tr>\n",
       "    <tr>\n",
       "      <th>2017-10-05 07:39:19.000</th>\n",
       "      <td>2017-10-05 07:39:19.000</td>\n",
       "      <td>CORRECTED-MORNING BID EUROPE-\"Last gasp?\" Kniv...</td>\n",
       "      <td>urn:newsml:reuters.com:20171005:nL8N1MG11G:2</td>\n",
       "      <td>NS:RTRS</td>\n",
       "      <td>&lt;div class=\"storyContent\"&gt;&lt;p class=\"tr-advisor...</td>\n",
       "    </tr>\n",
       "    <tr>\n",
       "      <th>2017-10-05 07:29:00.000</th>\n",
       "      <td>2017-10-05 07:29:00.000</td>\n",
       "      <td>POLL-TAKE A LOOK-Reuters Poll news stories fro...</td>\n",
       "      <td>urn:newsml:reuters.com:20171005:nL5N1LS2GI:5</td>\n",
       "      <td>NS:RTRS</td>\n",
       "      <td>&lt;div class=\"storyContent\"&gt;&lt;p&gt;Reuters polls are...</td>\n",
       "    </tr>\n",
       "  </tbody>\n",
       "</table>\n",
       "</div>"
      ],
      "text/plain": [
       "                                 versionCreated  \\\n",
       "2017-10-05 09:01:17.000 2017-10-05 09:01:17.000   \n",
       "2017-10-05 08:40:13.000 2017-10-05 08:40:13.000   \n",
       "2017-10-05 08:26:57.279 2017-10-05 08:26:57.279   \n",
       "2017-10-05 07:39:19.000 2017-10-05 07:39:19.000   \n",
       "2017-10-05 07:29:00.000 2017-10-05 07:29:00.000   \n",
       "\n",
       "                                                                      text  \\\n",
       "2017-10-05 09:01:17.000  GLOBAL MARKETS-Stock market party settles down...   \n",
       "2017-10-05 08:40:13.000          *TOP NEWS*-Central Banks & Global Economy   \n",
       "2017-10-05 08:26:57.279  Reuters Insider - European markets open lower;...   \n",
       "2017-10-05 07:39:19.000  CORRECTED-MORNING BID EUROPE-\"Last gasp?\" Kniv...   \n",
       "2017-10-05 07:29:00.000  POLL-TAKE A LOOK-Reuters Poll news stories fro...   \n",
       "\n",
       "                                                              storyId  \\\n",
       "2017-10-05 09:01:17.000  urn:newsml:reuters.com:20171005:nL8N1MG1JN:3   \n",
       "2017-10-05 08:40:13.000   urn:newsml:reuters.com:20171005:nTOPNOW1:16   \n",
       "2017-10-05 08:26:57.279  urn:newsml:reuters.com:20171005:nRTV9VRnmX:1   \n",
       "2017-10-05 07:39:19.000  urn:newsml:reuters.com:20171005:nL8N1MG11G:2   \n",
       "2017-10-05 07:29:00.000  urn:newsml:reuters.com:20171005:nL5N1LS2GI:5   \n",
       "\n",
       "                        sourceCode  \\\n",
       "2017-10-05 09:01:17.000    NS:RTRS   \n",
       "2017-10-05 08:40:13.000    NS:RTRS   \n",
       "2017-10-05 08:26:57.279    NS:CNBC   \n",
       "2017-10-05 07:39:19.000    NS:RTRS   \n",
       "2017-10-05 07:29:00.000    NS:RTRS   \n",
       "\n",
       "                                                             story_content  \n",
       "2017-10-05 09:01:17.000  <div class=\"storyContent\"><ul class=\"bulleted-...  \n",
       "2017-10-05 08:40:13.000  <div class=\"storyContent\"><pre>&gt; European s...  \n",
       "2017-10-05 08:26:57.279  <div class=\"storyContent\"><div class=\"storyfra...  \n",
       "2017-10-05 07:39:19.000  <div class=\"storyContent\"><p class=\"tr-advisor...  \n",
       "2017-10-05 07:29:00.000  <div class=\"storyContent\"><p>Reuters polls are...  "
      ]
     },
     "execution_count": 36,
     "metadata": {},
     "output_type": "execute_result"
    }
   ],
   "source": [
    "df = pd.read_pickle('news_sample.pickle')\n",
    "df.head()"
   ]
  },
  {
   "cell_type": "markdown",
   "metadata": {},
   "source": [
    "# story_id"
   ]
  },
  {
   "cell_type": "code",
   "execution_count": 37,
   "metadata": {},
   "outputs": [
    {
     "data": {
      "text/plain": [
       "'urn:newsml:reuters.com:20171005:nL8N1MG1JN:3'"
      ]
     },
     "execution_count": 37,
     "metadata": {},
     "output_type": "execute_result"
    }
   ],
   "source": [
    "df.storyId.iloc[0]"
   ]
  },
  {
   "cell_type": "markdown",
   "metadata": {},
   "source": [
    "# story_head"
   ]
  },
  {
   "cell_type": "code",
   "execution_count": 41,
   "metadata": {},
   "outputs": [
    {
     "data": {
      "text/plain": [
       "'GLOBAL MARKETS-Stock market party settles down for central bank reflection'"
      ]
     },
     "execution_count": 41,
     "metadata": {},
     "output_type": "execute_result"
    }
   ],
   "source": [
    "df.text.iloc[0]"
   ]
  },
  {
   "cell_type": "markdown",
   "metadata": {},
   "source": [
    "# story_content"
   ]
  },
  {
   "cell_type": "code",
   "execution_count": 38,
   "metadata": {},
   "outputs": [
    {
     "data": {
      "text/html": [
       "<div class=\"storyContent\"><ul class=\"bulleted-list arrowlist\"><li class=\"tr-summaryitem\">Global stocks off Wednesday's record high</li><li class=\"tr-summaryitem\">Euro near 7-wk low ahead of ECB minutes</li><li class=\"tr-summaryitem\">Graphic: World FX rates in 2017 <a href=\"http://tmsnrt.rs/2egbfVh\" data-type=\"url\" class=\"tr-link\">http://tmsnrt.rs/2egbfVh</a></li><li class=\"tr-summaryitem\">Reuters global stock poll - <a href=\"reuters://screen/verb=Open/url=cpurl%3A%2F%2Fapps.cp.%2Fcms%2F%3FpageId%3Dstock-index-poll\" data-type=\"cpurl\" data-cpurl=\"cpurl://apps.cp./cms/?pageId=stock-index-poll\">Open</a> poll data</li><li class=\"tr-summaryitem\">CFTC data - <a href=\"http://tmsnrt.rs/2z0fnzb\" data-type=\"url\" class=\"tr-link\">http://tmsnrt.rs/2z0fnzb</a></li><li class=\"tr-summaryitem\">Fed chair candidates - <a href=\"http://tmsnrt.rs/2yqJh2I\" data-type=\"url\" class=\"tr-link\">http://tmsnrt.rs/2yqJh2I</a></li></ul><p class=\"tr-by\">By John Geddie</p><p class=\"tr-story-p1\"><span class=\"tr-dateline\">LONDON, Oct 5 (Reuters)</span><span class=\"tr-dl-sep\"> - </span>Global stocks came off record highs and the euro held near a seven-week low on Thursday as investors prepared to parse minutes from the European Central Bank's last meeting for clues to its exit from ultra-easy monetary policy.</p><p>Political tensions emanating from Spain, where one of its richest regions Catalonia has pledged to declare 'independence in days', was also at the forefront of concerns for European markets. </p><p>Spain's government bond yields rose to their highest level since March while Madrid's stock market <a href=\"reuters://REALTIME/Verb=FullQuote/ric=.IBEX\" data-type=\"ric\" data-ric=\".IBEX\">.IBEX</a> headed for its biggest weekly loss of the year.<a href=\"reuters://REALTIME/verb=Headlines/ric=GVD/EUR\" data-type=\"newsExpression\" data-expression=\"GVD/EUR\">GVD/EUR</a></p><p>Euro zone stocks <a href=\"reuters://REALTIME/Verb=FullQuote/ric=.STOXXE\" data-type=\"ric\" data-ric=\".STOXXE\">.STOXXE</a> steadied from a wobble on Wednesday, but with public holidays across Asia and some key data due from the world's largest economy the U.S. coming up later this week, an index of global stocks flat lined <a href=\"reuters://REALTIME/Verb=FullQuote/ric=.MIWD00000PUS\" data-type=\"ric\" data-ric=\".MIWD00000PUS\">.MIWD00000PUS</a>.</p><p>     A Reuters poll showed global stocks will rise even more over the coming year as optimism about the global economy grows, but a slim majority of equity strategists polled by Reuters also said the current eight-year bull run will end in 2018. <span> (<a href=\"reuters://REALTIME/verb=NewsStory/ric=nL4N1MF2Q6\" data-type=\"storyId\" data-story-id=\"nL4N1MF2Q6\" class=\"tr-pnac\">Full Story</a>)</span></p><p>There were some eye-catching moves in currency markets as economic concerns at one stage knocked half a percent off the Australian dollar <a href=\"reuters://REALTIME/Verb=FullQuote/ric=AUD=\" data-type=\"ric\" data-ric=\"AUD=\">AUD=</a> and the South African <a href=\"reuters://REALTIME/Verb=FullQuote/ric=ZAR=\" data-type=\"ric\" data-ric=\"ZAR=\">ZAR=</a> rand, and investors mulled whether they had become too bullish on the European single currency <a href=\"reuters://REALTIME/Verb=FullQuote/ric=EUR=\" data-type=\"ric\" data-ric=\"EUR=\">EUR=</a>.</p><p>The amount of cash hedge funds are staking on a rising euro is the biggest in more than five years, the latest positioning data from the Commodity Futures Trading Commission showed. </p><p>\"Much attention will be directed towards the minutes of September's European Central Bank meeting, which could offer some fresh insight into the central banks tapering plans. The euro still remains at risk of depreciating further, if the minutes express concerns over the strength of the euro,\" said Lukman Otunuga, Research Analyst at FXTM.</p><p>The euro was broadly flat on Thursday at $1.177 <a href=\"reuters://REALTIME/Verb=FullQuote/ric=EUR=\" data-type=\"ric\" data-ric=\"EUR=\">EUR=</a>, not straying too far from a seven-week low of $1.169 hit earlier this week. </p><p>There is also plenty of uncertainty over the future path of monetary policy in the United States, with U.S. President Donald Trump promising to decide this month on a new chief to replace Janet Yellen, whose term expires in May. </p><p>        </p><p>MIXED PICTURE</p><p>Economic data will also dictate the path of interest rate hikes in the world's largest economy, and recently that has been fairly mixed.</p><p>The dollar was flat against a basket of major currencies <a href=\"reuters://REALTIME/Verb=FullQuote/ric=.DXY\" data-type=\"ric\" data-ric=\".DXY\">.DXY</a> on Thursday, having slipped a bit on Wednesday after a survey showed hiring slowed to an 11-month low of 135,000 <a href=\"reuters://REALTIME/verb=Headlines/ric=USADP=ECI\" data-type=\"newsExpression\" data-expression=\"USADP=ECI\">USADP=ECI</a>, partly to disruptions from hurricanes, although this was better than economists' median forecast.</p><p>Economists expect Friday's nonfarm payrolls report, one of the most closely watched pieces of economic data in financial markets, to show a similar slowdown.</p><p>They estimate a payroll increase in September of 90,000, substantially lower than the average over the past year of around 175,000, though some say investors may need to pay attention to state data due on Oct. 20 to exclude the impact from hurricanes.</p><p>U.S. 10-year bond yields were flat at 2.33 percent, holding below multi-month peaks hit earlier this week <a href=\"reuters://REALTIME/Verb=FullQuote/ric=US10YT=RR\" data-type=\"ric\" data-ric=\"US10YT=RR\">US10YT=RR</a>. </p><p>\"Because U.S. economic data for August to October is likely to be disrupted by hurricanes, markets may show a much smaller response to them,\" said Tomoaki Shishido, fixed income analyst at Nomura Securities.</p><p>\"In that regard, the market will be focusing more on policy issues, such as tax cuts and the choice of the next Fed chair,\" he added.</p><p>Trump proposed a tax overhaul late last month but it remains to be seen whether the plan can get  through Congress given the divisions among Republicans.</p><p>Oil prices steadied on Thursday on expectations that Saudi Arabia and Russia would extend production cuts, although record U.S. exports and the return of supply from a Libyan oilfield dragged on the market. <a href=\"reuters://REALTIME/verb=Headlines/ric=O/R\" data-type=\"newsExpression\" data-expression=\"O/R\">O/R</a></p><p>Brent crude <a href=\"reuters://REALTIME/Verb=FullQuote/ric=LCOc1\" data-type=\"ric\" data-ric=\"LCOc1\">LCOc1</a> was up 20 cents at $56.00 a barrel by 0800 GMT. U.S. light crude <a href=\"reuters://REALTIME/Verb=FullQuote/ric=CLc1\" data-type=\"ric\" data-ric=\"CLc1\">CLc1</a> was unchanged at $49.98.</p><p>Elsewhere, Qatar's stock index <a href=\"reuters://REALTIME/Verb=FullQuote/ric=.QSI\" data-type=\"ric\" data-ric=\".QSI\">.QSI</a> sank to a fresh five-year low on Thursday, hurt by the effects of sanctions imposed by neighbouring states.</p><p>For Reuters Live Markets blog on European and UK stock markets see <a href=\"reuters://realtime/verb=Open/url=http://emea1.apps.cp.extranet.thomsonreuters.biz/cms/?pageId=livemarkets\" data-type=\"raceLink\" class=\"raceLink\">Open</a></p><p><br/></p><p class=\"tr-signoff\"> (Reporting by John Geddie in London and Hideyuki Sano in Tokyo)</p><p class=\"line-break\"><br/></p><p class=\"tr-slugline\">Keywords: GLOBAL-MARKETS/ (WRAPUP 4, PIX)</p></div>"
      ],
      "text/plain": [
       "<IPython.core.display.HTML object>"
      ]
     },
     "execution_count": 38,
     "metadata": {},
     "output_type": "execute_result"
    }
   ],
   "source": [
    "HTML(df.story_content.iloc[0])"
   ]
  },
  {
   "cell_type": "code",
   "execution_count": 39,
   "metadata": {},
   "outputs": [
    {
     "data": {
      "text/plain": [
       "'<div class=\"storyContent\"><ul class=\"bulleted-list arrowlist\"><li class=\"tr-summaryitem\">Global stocks off Wednesday\\'s record high</li><li class=\"tr-summaryitem\">Euro near 7-wk low ahead of ECB minutes</li><li class=\"tr-summaryitem\">Graphic: World FX rates in 2017 <a href=\"http://tmsnrt.rs/2egbfVh\" data-type=\"url\" class=\"tr-link\">http://tmsnrt.rs/2egbfVh</a></li><li class=\"tr-summaryitem\">Reuters global stock poll - <a href=\"reuters://screen/verb=Open/url=cpurl%3A%2F%2Fapps.cp.%2Fcms%2F%3FpageId%3Dstock-index-poll\" data-type=\"cpurl\" data-cpurl=\"cpurl://apps.cp./cms/?pageId=stock-index-poll\">Open</a> poll data</li><li class=\"tr-summaryitem\">CFTC data - <a href=\"http://tmsnrt.rs/2z0fnzb\" data-type=\"url\" class=\"tr-link\">http://tmsnrt.rs/2z0fnzb</a></li><li class=\"tr-summaryitem\">Fed chair candidates - <a href=\"http://tmsnrt.rs/2yqJh2I\" data-type=\"url\" class=\"tr-link\">http://tmsnrt.rs/2yqJh2I</a></li></ul><p class=\"tr-by\">By John Geddie</p><p class=\"tr-story-p1\"><span class=\"tr-dateline\">LONDON, Oct 5 (Reuters)</span><span class=\"tr-dl-sep\"> - </span>Global stocks came off record highs and the euro held near a seven-week low on Thursday as investors prepared to parse minutes from the European Central Bank\\'s last meeting for clues to its exit from ultra-easy monetary policy.</p><p>Political tensions emanating from Spain, where one of its richest regions Catalonia has pledged to declare \\'independence in days\\', was also at the forefront of concerns for European markets. </p><p>Spain\\'s government bond yields rose to their highest level since March while Madrid\\'s stock market <a href=\"reuters://REALTIME/Verb=FullQuote/ric=.IBEX\" data-type=\"ric\" data-ric=\".IBEX\">.IBEX</a> headed for its biggest weekly loss of the year.<a href=\"reuters://REALTIME/verb=Headlines/ric=GVD/EUR\" data-type=\"newsExpression\" data-expression=\"GVD/EUR\">GVD/EUR</a></p><p>Euro zone stocks <a href=\"reuters://REALTIME/Verb=FullQuote/ric=.STOXXE\" data-type=\"ric\" data-ric=\".STOXXE\">.STOXXE</a> steadied from a wobble on Wednesday, but with public holidays across Asia and some key data due from the world\\'s largest economy the U.S. coming up later this week, an index of global stocks flat lined <a href=\"reuters://REALTIME/Verb=FullQuote/ric=.MIWD00000PUS\" data-type=\"ric\" data-ric=\".MIWD00000PUS\">.MIWD00000PUS</a>.</p><p>     A Reuters poll showed global stocks will rise even more over the coming year as optimism about the global economy grows, but a slim majority of equity strategists polled by Reuters also said the current eight-year bull run will end in 2018. <span> (<a href=\"reuters://REALTIME/verb=NewsStory/ric=nL4N1MF2Q6\" data-type=\"storyId\" data-story-id=\"nL4N1MF2Q6\" class=\"tr-pnac\">Full Story</a>)</span></p><p>There were some eye-catching moves in currency markets as economic concerns at one stage knocked half a percent off the Australian dollar <a href=\"reuters://REALTIME/Verb=FullQuote/ric=AUD=\" data-type=\"ric\" data-ric=\"AUD=\">AUD=</a> and the South African <a href=\"reuters://REALTIME/Verb=FullQuote/ric=ZAR=\" data-type=\"ric\" data-ric=\"ZAR=\">ZAR=</a> rand, and investors mulled whether they had become too bullish on the European single currency <a href=\"reuters://REALTIME/Verb=FullQuote/ric=EUR=\" data-type=\"ric\" data-ric=\"EUR=\">EUR=</a>.</p><p>The amount of cash hedge funds are staking on a rising euro is the biggest in more than five years, the latest positioning data from the Commodity Futures Trading Commission showed. </p><p>\"Much attention will be directed towards the minutes of September\\'s European Central Bank meeting, which could offer some fresh insight into the central banks tapering plans. The euro still remains at risk of depreciating further, if the minutes express concerns over the strength of the euro,\" said Lukman Otunuga, Research Analyst at FXTM.</p><p>The euro was broadly flat on Thursday at $1.177 <a href=\"reuters://REALTIME/Verb=FullQuote/ric=EUR=\" data-type=\"ric\" data-ric=\"EUR=\">EUR=</a>, not straying too far from a seven-week low of $1.169 hit earlier this week. </p><p>There is also plenty of uncertainty over the future path of monetary policy in the United States, with U.S. President Donald Trump promising to decide this month on a new chief to replace Janet Yellen, whose term expires in May. </p><p>        </p><p>MIXED PICTURE</p><p>Economic data will also dictate the path of interest rate hikes in the world\\'s largest economy, and recently that has been fairly mixed.</p><p>The dollar was flat against a basket of major currencies <a href=\"reuters://REALTIME/Verb=FullQuote/ric=.DXY\" data-type=\"ric\" data-ric=\".DXY\">.DXY</a> on Thursday, having slipped a bit on Wednesday after a survey showed hiring slowed to an 11-month low of 135,000 <a href=\"reuters://REALTIME/verb=Headlines/ric=USADP=ECI\" data-type=\"newsExpression\" data-expression=\"USADP=ECI\">USADP=ECI</a>, partly to disruptions from hurricanes, although this was better than economists\\' median forecast.</p><p>Economists expect Friday\\'s nonfarm payrolls report, one of the most closely watched pieces of economic data in financial markets, to show a similar slowdown.</p><p>They estimate a payroll increase in September of 90,000, substantially lower than the average over the past year of around 175,000, though some say investors may need to pay attention to state data due on Oct. 20 to exclude the impact from hurricanes.</p><p>U.S. 10-year bond yields were flat at 2.33 percent, holding below multi-month peaks hit earlier this week <a href=\"reuters://REALTIME/Verb=FullQuote/ric=US10YT=RR\" data-type=\"ric\" data-ric=\"US10YT=RR\">US10YT=RR</a>. </p><p>\"Because U.S. economic data for August to October is likely to be disrupted by hurricanes, markets may show a much smaller response to them,\" said Tomoaki Shishido, fixed income analyst at Nomura Securities.</p><p>\"In that regard, the market will be focusing more on policy issues, such as tax cuts and the choice of the next Fed chair,\" he added.</p><p>Trump proposed a tax overhaul late last month but it remains to be seen whether the plan can get  through Congress given the divisions among Republicans.</p><p>Oil prices steadied on Thursday on expectations that Saudi Arabia and Russia would extend production cuts, although record U.S. exports and the return of supply from a Libyan oilfield dragged on the market. <a href=\"reuters://REALTIME/verb=Headlines/ric=O/R\" data-type=\"newsExpression\" data-expression=\"O/R\">O/R</a></p><p>Brent crude <a href=\"reuters://REALTIME/Verb=FullQuote/ric=LCOc1\" data-type=\"ric\" data-ric=\"LCOc1\">LCOc1</a> was up 20 cents at $56.00 a barrel by 0800 GMT. U.S. light crude <a href=\"reuters://REALTIME/Verb=FullQuote/ric=CLc1\" data-type=\"ric\" data-ric=\"CLc1\">CLc1</a> was unchanged at $49.98.</p><p>Elsewhere, Qatar\\'s stock index <a href=\"reuters://REALTIME/Verb=FullQuote/ric=.QSI\" data-type=\"ric\" data-ric=\".QSI\">.QSI</a> sank to a fresh five-year low on Thursday, hurt by the effects of sanctions imposed by neighbouring states.</p><p>For Reuters Live Markets blog on European and UK stock markets see <a href=\"reuters://realtime/verb=Open/url=http://emea1.apps.cp.extranet.thomsonreuters.biz/cms/?pageId=livemarkets\" data-type=\"raceLink\" class=\"raceLink\">Open</a></p><p><br/></p><p class=\"tr-signoff\"> (Reporting by John Geddie in London and Hideyuki Sano in Tokyo)</p><p class=\"line-break\"><br/></p><p class=\"tr-slugline\">Keywords: GLOBAL-MARKETS/ (WRAPUP 4, PIX)</p></div>'"
      ]
     },
     "execution_count": 39,
     "metadata": {},
     "output_type": "execute_result"
    }
   ],
   "source": [
    "df.story_content.iloc[0]"
   ]
  },
  {
   "cell_type": "markdown",
   "metadata": {},
   "source": [
    "# timeseries"
   ]
  },
  {
   "cell_type": "code",
   "execution_count": 61,
   "metadata": {},
   "outputs": [
    {
     "data": {
      "text/html": [
       "<div>\n",
       "<table border=\"1\" class=\"dataframe\">\n",
       "  <thead>\n",
       "    <tr style=\"text-align: right;\">\n",
       "      <th>US2YT=RR</th>\n",
       "      <th>HIGH</th>\n",
       "      <th>CLOSE</th>\n",
       "      <th>LOW</th>\n",
       "      <th>OPEN</th>\n",
       "      <th>COUNT</th>\n",
       "    </tr>\n",
       "    <tr>\n",
       "      <th>Date</th>\n",
       "      <th></th>\n",
       "      <th></th>\n",
       "      <th></th>\n",
       "      <th></th>\n",
       "      <th></th>\n",
       "    </tr>\n",
       "  </thead>\n",
       "  <tbody>\n",
       "    <tr>\n",
       "      <th>2017-09-05</th>\n",
       "      <td>1.330</td>\n",
       "      <td>1.2900</td>\n",
       "      <td>1.290</td>\n",
       "      <td>1.326</td>\n",
       "      <td>-1.0</td>\n",
       "    </tr>\n",
       "    <tr>\n",
       "      <th>2017-09-06</th>\n",
       "      <td>1.314</td>\n",
       "      <td>1.3060</td>\n",
       "      <td>1.286</td>\n",
       "      <td>1.290</td>\n",
       "      <td>-1.0</td>\n",
       "    </tr>\n",
       "    <tr>\n",
       "      <th>2017-09-07</th>\n",
       "      <td>1.302</td>\n",
       "      <td>1.2740</td>\n",
       "      <td>1.262</td>\n",
       "      <td>1.298</td>\n",
       "      <td>-1.0</td>\n",
       "    </tr>\n",
       "    <tr>\n",
       "      <th>2017-09-08</th>\n",
       "      <td>1.282</td>\n",
       "      <td>1.2740</td>\n",
       "      <td>1.254</td>\n",
       "      <td>1.270</td>\n",
       "      <td>-1.0</td>\n",
       "    </tr>\n",
       "    <tr>\n",
       "      <th>2017-09-11</th>\n",
       "      <td>1.323</td>\n",
       "      <td>1.3190</td>\n",
       "      <td>1.282</td>\n",
       "      <td>1.290</td>\n",
       "      <td>-1.0</td>\n",
       "    </tr>\n",
       "    <tr>\n",
       "      <th>2017-09-12</th>\n",
       "      <td>1.343</td>\n",
       "      <td>1.3350</td>\n",
       "      <td>1.314</td>\n",
       "      <td>1.314</td>\n",
       "      <td>-1.0</td>\n",
       "    </tr>\n",
       "    <tr>\n",
       "      <th>2017-09-13</th>\n",
       "      <td>1.355</td>\n",
       "      <td>1.3550</td>\n",
       "      <td>1.331</td>\n",
       "      <td>1.331</td>\n",
       "      <td>-1.0</td>\n",
       "    </tr>\n",
       "    <tr>\n",
       "      <th>2017-09-14</th>\n",
       "      <td>1.388</td>\n",
       "      <td>1.3680</td>\n",
       "      <td>1.347</td>\n",
       "      <td>1.351</td>\n",
       "      <td>-1.0</td>\n",
       "    </tr>\n",
       "    <tr>\n",
       "      <th>2017-09-15</th>\n",
       "      <td>1.388</td>\n",
       "      <td>1.3840</td>\n",
       "      <td>1.355</td>\n",
       "      <td>1.355</td>\n",
       "      <td>-1.0</td>\n",
       "    </tr>\n",
       "    <tr>\n",
       "      <th>2017-09-18</th>\n",
       "      <td>1.405</td>\n",
       "      <td>1.3930</td>\n",
       "      <td>1.389</td>\n",
       "      <td>1.389</td>\n",
       "      <td>-1.0</td>\n",
       "    </tr>\n",
       "    <tr>\n",
       "      <th>2017-09-19</th>\n",
       "      <td>1.405</td>\n",
       "      <td>1.4010</td>\n",
       "      <td>1.385</td>\n",
       "      <td>1.393</td>\n",
       "      <td>-1.0</td>\n",
       "    </tr>\n",
       "    <tr>\n",
       "      <th>2017-09-20</th>\n",
       "      <td>1.451</td>\n",
       "      <td>1.4420</td>\n",
       "      <td>1.385</td>\n",
       "      <td>1.393</td>\n",
       "      <td>-1.0</td>\n",
       "    </tr>\n",
       "    <tr>\n",
       "      <th>2017-09-21</th>\n",
       "      <td>1.447</td>\n",
       "      <td>1.4430</td>\n",
       "      <td>1.430</td>\n",
       "      <td>1.442</td>\n",
       "      <td>-1.0</td>\n",
       "    </tr>\n",
       "    <tr>\n",
       "      <th>2017-09-22</th>\n",
       "      <td>1.443</td>\n",
       "      <td>1.4430</td>\n",
       "      <td>1.426</td>\n",
       "      <td>1.439</td>\n",
       "      <td>-1.0</td>\n",
       "    </tr>\n",
       "    <tr>\n",
       "      <th>2017-09-25</th>\n",
       "      <td>1.447</td>\n",
       "      <td>1.4270</td>\n",
       "      <td>1.419</td>\n",
       "      <td>1.443</td>\n",
       "      <td>-1.0</td>\n",
       "    </tr>\n",
       "    <tr>\n",
       "      <th>2017-09-26</th>\n",
       "      <td>1.456</td>\n",
       "      <td>1.4400</td>\n",
       "      <td>1.423</td>\n",
       "      <td>1.427</td>\n",
       "      <td>-1.0</td>\n",
       "    </tr>\n",
       "    <tr>\n",
       "      <th>2017-09-27</th>\n",
       "      <td>1.483</td>\n",
       "      <td>1.4820</td>\n",
       "      <td>1.451</td>\n",
       "      <td>1.455</td>\n",
       "      <td>-1.0</td>\n",
       "    </tr>\n",
       "    <tr>\n",
       "      <th>2017-09-28</th>\n",
       "      <td>1.499</td>\n",
       "      <td>1.4550</td>\n",
       "      <td>1.455</td>\n",
       "      <td>1.475</td>\n",
       "      <td>-1.0</td>\n",
       "    </tr>\n",
       "    <tr>\n",
       "      <th>2017-09-29</th>\n",
       "      <td>1.491</td>\n",
       "      <td>1.4790</td>\n",
       "      <td>1.451</td>\n",
       "      <td>1.455</td>\n",
       "      <td>-1.0</td>\n",
       "    </tr>\n",
       "    <tr>\n",
       "      <th>2017-10-02</th>\n",
       "      <td>1.507</td>\n",
       "      <td>1.4870</td>\n",
       "      <td>1.483</td>\n",
       "      <td>1.495</td>\n",
       "      <td>-1.0</td>\n",
       "    </tr>\n",
       "    <tr>\n",
       "      <th>2017-10-03</th>\n",
       "      <td>1.495</td>\n",
       "      <td>1.4750</td>\n",
       "      <td>1.471</td>\n",
       "      <td>1.491</td>\n",
       "      <td>-1.0</td>\n",
       "    </tr>\n",
       "    <tr>\n",
       "      <th>2017-10-04</th>\n",
       "      <td>1.487</td>\n",
       "      <td>1.4790</td>\n",
       "      <td>1.459</td>\n",
       "      <td>1.479</td>\n",
       "      <td>-1.0</td>\n",
       "    </tr>\n",
       "    <tr>\n",
       "      <th>2017-10-05</th>\n",
       "      <td>1.483</td>\n",
       "      <td>1.4792</td>\n",
       "      <td>1.475</td>\n",
       "      <td>1.479</td>\n",
       "      <td>360.0</td>\n",
       "    </tr>\n",
       "  </tbody>\n",
       "</table>\n",
       "</div>"
      ],
      "text/plain": [
       "US2YT=RR     HIGH   CLOSE    LOW   OPEN  COUNT\n",
       "Date                                          \n",
       "2017-09-05  1.330  1.2900  1.290  1.326   -1.0\n",
       "2017-09-06  1.314  1.3060  1.286  1.290   -1.0\n",
       "2017-09-07  1.302  1.2740  1.262  1.298   -1.0\n",
       "2017-09-08  1.282  1.2740  1.254  1.270   -1.0\n",
       "2017-09-11  1.323  1.3190  1.282  1.290   -1.0\n",
       "2017-09-12  1.343  1.3350  1.314  1.314   -1.0\n",
       "2017-09-13  1.355  1.3550  1.331  1.331   -1.0\n",
       "2017-09-14  1.388  1.3680  1.347  1.351   -1.0\n",
       "2017-09-15  1.388  1.3840  1.355  1.355   -1.0\n",
       "2017-09-18  1.405  1.3930  1.389  1.389   -1.0\n",
       "2017-09-19  1.405  1.4010  1.385  1.393   -1.0\n",
       "2017-09-20  1.451  1.4420  1.385  1.393   -1.0\n",
       "2017-09-21  1.447  1.4430  1.430  1.442   -1.0\n",
       "2017-09-22  1.443  1.4430  1.426  1.439   -1.0\n",
       "2017-09-25  1.447  1.4270  1.419  1.443   -1.0\n",
       "2017-09-26  1.456  1.4400  1.423  1.427   -1.0\n",
       "2017-09-27  1.483  1.4820  1.451  1.455   -1.0\n",
       "2017-09-28  1.499  1.4550  1.455  1.475   -1.0\n",
       "2017-09-29  1.491  1.4790  1.451  1.455   -1.0\n",
       "2017-10-02  1.507  1.4870  1.483  1.495   -1.0\n",
       "2017-10-03  1.495  1.4750  1.471  1.491   -1.0\n",
       "2017-10-04  1.487  1.4790  1.459  1.479   -1.0\n",
       "2017-10-05  1.483  1.4792  1.475  1.479  360.0"
      ]
     },
     "execution_count": 61,
     "metadata": {},
     "output_type": "execute_result"
    }
   ],
   "source": [
    "df = pd.read_pickle('timeseries_sample1.pickle')\n",
    "df"
   ]
  },
  {
   "cell_type": "markdown",
   "metadata": {},
   "source": [
    "# financial statement"
   ]
  },
  {
   "cell_type": "code",
   "execution_count": 66,
   "metadata": {},
   "outputs": [
    {
     "data": {
      "text/html": [
       "<div>\n",
       "<table border=\"1\" class=\"dataframe\">\n",
       "  <thead>\n",
       "    <tr style=\"text-align: right;\">\n",
       "      <th></th>\n",
       "      <th>Instrument</th>\n",
       "      <th>Date</th>\n",
       "      <th>Revenue</th>\n",
       "      <th>Gross Profit</th>\n",
       "    </tr>\n",
       "  </thead>\n",
       "  <tbody>\n",
       "    <tr>\n",
       "      <th>0</th>\n",
       "      <td>GOOG.O</td>\n",
       "      <td>2016-12-31T00:00:00Z</td>\n",
       "      <td>90272.000</td>\n",
       "      <td>55134.000</td>\n",
       "    </tr>\n",
       "    <tr>\n",
       "      <th>1</th>\n",
       "      <td>GOOG.O</td>\n",
       "      <td>2015-12-31T00:00:00Z</td>\n",
       "      <td>74989.000</td>\n",
       "      <td>46825.000</td>\n",
       "    </tr>\n",
       "    <tr>\n",
       "      <th>2</th>\n",
       "      <td>GOOG.O</td>\n",
       "      <td>2014-12-31T00:00:00Z</td>\n",
       "      <td>66001.000</td>\n",
       "      <td>40688.000</td>\n",
       "    </tr>\n",
       "    <tr>\n",
       "      <th>3</th>\n",
       "      <td>MSFT.O</td>\n",
       "      <td>2017-06-30T00:00:00Z</td>\n",
       "      <td>89950.000</td>\n",
       "      <td>55689.000</td>\n",
       "    </tr>\n",
       "    <tr>\n",
       "      <th>4</th>\n",
       "      <td>MSFT.O</td>\n",
       "      <td>2016-06-30T00:00:00Z</td>\n",
       "      <td>85320.000</td>\n",
       "      <td>52540.000</td>\n",
       "    </tr>\n",
       "    <tr>\n",
       "      <th>5</th>\n",
       "      <td>MSFT.O</td>\n",
       "      <td>2015-06-30T00:00:00Z</td>\n",
       "      <td>93580.000</td>\n",
       "      <td>60542.000</td>\n",
       "    </tr>\n",
       "    <tr>\n",
       "      <th>6</th>\n",
       "      <td>FB.O</td>\n",
       "      <td>2016-12-31T00:00:00Z</td>\n",
       "      <td>27638.000</td>\n",
       "      <td>23849.000</td>\n",
       "    </tr>\n",
       "    <tr>\n",
       "      <th>7</th>\n",
       "      <td>FB.O</td>\n",
       "      <td>2015-12-31T00:00:00Z</td>\n",
       "      <td>17928.000</td>\n",
       "      <td>15061.000</td>\n",
       "    </tr>\n",
       "    <tr>\n",
       "      <th>8</th>\n",
       "      <td>FB.O</td>\n",
       "      <td>2014-12-31T00:00:00Z</td>\n",
       "      <td>12466.000</td>\n",
       "      <td>10313.000</td>\n",
       "    </tr>\n",
       "    <tr>\n",
       "      <th>9</th>\n",
       "      <td>AMZN.O</td>\n",
       "      <td>2016-12-31T00:00:00Z</td>\n",
       "      <td>135987.000</td>\n",
       "      <td>47722.000</td>\n",
       "    </tr>\n",
       "    <tr>\n",
       "      <th>10</th>\n",
       "      <td>AMZN.O</td>\n",
       "      <td>2015-12-31T00:00:00Z</td>\n",
       "      <td>107006.000</td>\n",
       "      <td>35355.000</td>\n",
       "    </tr>\n",
       "    <tr>\n",
       "      <th>11</th>\n",
       "      <td>AMZN.O</td>\n",
       "      <td>2014-12-31T00:00:00Z</td>\n",
       "      <td>88988.000</td>\n",
       "      <td>26236.000</td>\n",
       "    </tr>\n",
       "    <tr>\n",
       "      <th>12</th>\n",
       "      <td>NVDA.O</td>\n",
       "      <td>2017-01-29T00:00:00Z</td>\n",
       "      <td>6910.000</td>\n",
       "      <td>4063.000</td>\n",
       "    </tr>\n",
       "    <tr>\n",
       "      <th>13</th>\n",
       "      <td>NVDA.O</td>\n",
       "      <td>2016-01-31T00:00:00Z</td>\n",
       "      <td>5010.000</td>\n",
       "      <td>2811.000</td>\n",
       "    </tr>\n",
       "    <tr>\n",
       "      <th>14</th>\n",
       "      <td>NVDA.O</td>\n",
       "      <td>2015-01-25T00:00:00Z</td>\n",
       "      <td>4681.507</td>\n",
       "      <td>2599.477</td>\n",
       "    </tr>\n",
       "  </tbody>\n",
       "</table>\n",
       "</div>"
      ],
      "text/plain": [
       "   Instrument                  Date     Revenue  Gross Profit\n",
       "0      GOOG.O  2016-12-31T00:00:00Z   90272.000     55134.000\n",
       "1      GOOG.O  2015-12-31T00:00:00Z   74989.000     46825.000\n",
       "2      GOOG.O  2014-12-31T00:00:00Z   66001.000     40688.000\n",
       "3      MSFT.O  2017-06-30T00:00:00Z   89950.000     55689.000\n",
       "4      MSFT.O  2016-06-30T00:00:00Z   85320.000     52540.000\n",
       "5      MSFT.O  2015-06-30T00:00:00Z   93580.000     60542.000\n",
       "6        FB.O  2016-12-31T00:00:00Z   27638.000     23849.000\n",
       "7        FB.O  2015-12-31T00:00:00Z   17928.000     15061.000\n",
       "8        FB.O  2014-12-31T00:00:00Z   12466.000     10313.000\n",
       "9      AMZN.O  2016-12-31T00:00:00Z  135987.000     47722.000\n",
       "10     AMZN.O  2015-12-31T00:00:00Z  107006.000     35355.000\n",
       "11     AMZN.O  2014-12-31T00:00:00Z   88988.000     26236.000\n",
       "12     NVDA.O  2017-01-29T00:00:00Z    6910.000      4063.000\n",
       "13     NVDA.O  2016-01-31T00:00:00Z    5010.000      2811.000\n",
       "14     NVDA.O  2015-01-25T00:00:00Z    4681.507      2599.477"
      ]
     },
     "execution_count": 66,
     "metadata": {},
     "output_type": "execute_result"
    }
   ],
   "source": [
    "df = pd.read_pickle('fs_sample.pickle')\n",
    "df"
   ]
  },
  {
   "cell_type": "code",
   "execution_count": null,
   "metadata": {
    "collapsed": true
   },
   "outputs": [],
   "source": []
  },
  {
   "cell_type": "code",
   "execution_count": null,
   "metadata": {
    "collapsed": true
   },
   "outputs": [],
   "source": []
  },
  {
   "cell_type": "code",
   "execution_count": null,
   "metadata": {
    "collapsed": true
   },
   "outputs": [],
   "source": []
  },
  {
   "cell_type": "code",
   "execution_count": null,
   "metadata": {
    "collapsed": true
   },
   "outputs": [],
   "source": []
  }
 ],
 "metadata": {
  "kernelspec": {
   "display_name": "Python 3",
   "language": "python",
   "name": "python3"
  },
  "language_info": {
   "codemirror_mode": {
    "name": "ipython",
    "version": 3
   },
   "file_extension": ".py",
   "mimetype": "text/x-python",
   "name": "python",
   "nbconvert_exporter": "python",
   "pygments_lexer": "ipython3",
   "version": "3.6.0"
  }
 },
 "nbformat": 4,
 "nbformat_minor": 2
}
